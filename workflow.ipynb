{
 "cells": [
  {
   "cell_type": "code",
   "execution_count": null,
   "id": "64bc8895",
   "metadata": {},
   "outputs": [],
   "source": [
    "import os, glob, re\n",
    "import numpy as np\n",
    "import cv2 as cv\n",
    "import matplotlib.pyplot as plt\n",
    "from scipy import ndimage\n",
    "\n",
    "import face, private\n",
    "\n",
    "# Refer to TCIA UC Davis healthy subject dataset for sample images\n",
    "# glob should return a list of the dicom directories for CT or PET images\n",
    "ct_paths = glob.glob(private.ct_paths)\n",
    "pt_paths = glob.glob(private.pt_paths)\n",
    "\n",
    "print(f'Found {len(ct_paths)} CT images and {len(pt_paths)} PET images')\n",
    "\n",
    "# select subject 1, 90 minute timepoint\n",
    "ct = [ct for ct in ct_paths if re.match(r'.*Sub001.*90m.*', ct)][0]\n",
    "pt = [pt for pt in pt_paths if re.match(r'.*Sub001.*90m.*', pt)][0]"
   ]
  },
  {
   "cell_type": "markdown",
   "id": "92503253",
   "metadata": {},
   "source": [
    "## CT Workflow"
   ]
  },
  {
   "cell_type": "code",
   "execution_count": null,
   "id": "04820e85",
   "metadata": {},
   "outputs": [],
   "source": [
    "# Load the CT image\n",
    "\n",
    "nimg, _ = face.load_dicom(ct) # loads the dicom dir as a nifti image in memory\n",
    "d = nimg.get_fdata()"
   ]
  },
  {
   "cell_type": "code",
   "execution_count": null,
   "id": "1e2a8c5f",
   "metadata": {},
   "outputs": [],
   "source": [
    "# Create the CT threshold image\n",
    "\n",
    "middle = int(d.shape[2]/2)\n",
    "slc = d[...,middle]\n",
    "smax = slc.max()\n",
    "slc = (slc / smax * 255.0).astype(np.uint8)\n",
    "thr, mask = cv.threshold(slc, 0, 255,\n",
    "                        cv.THRESH_BINARY + cv.THRESH_OTSU)\n",
    "\n",
    "fig, axs = plt.subplots(ncols = 2)\n",
    "axs[0].imshow(np.flipud(slc.T), cmap = 'gray')\n",
    "axs[1].imshow(np.flipud(mask.T))\n",
    "plt.show()"
   ]
  },
  {
   "cell_type": "code",
   "execution_count": null,
   "id": "dcabaf8a",
   "metadata": {},
   "outputs": [],
   "source": [
    "# Create the offset imgae\n",
    "\n",
    "d_mask = d > (thr / 255 * smax)\n",
    "offset_unscaled = d_mask[:,::-1].argmax(1)\n",
    "zooms = nimg.header.get_zooms()\n",
    "aspect = zooms[2]/zooms[0]\n",
    "pixdim = zooms[0]\n",
    "\n",
    "offset = ndimage.zoom(offset_unscaled, (1,aspect), order = 1)\n",
    "\n",
    "plt.imshow(offset.T, cmap = 'gray')\n",
    "plt.gca().invert_yaxis()\n",
    "plt.xticks([])\n",
    "plt.yticks([])\n",
    "plt.show()"
   ]
  },
  {
   "cell_type": "code",
   "execution_count": null,
   "id": "38c3a6c1",
   "metadata": {},
   "outputs": [],
   "source": [
    "# Create the gradient image and the inverted 'rendering'\n",
    "\n",
    "gradx = ndimage.sobel(offset, 0)\n",
    "grady = ndimage.sobel(offset, 1)\n",
    "grad = np.hypot(gradx, grady)\n",
    "\n",
    "gmax = pixdim*20\n",
    "grad = np.clip(grad, -gmax, gmax)\n",
    "\n",
    "render = 1 - (grad / grad.max())\n",
    "render = (render * 255).astype(np.uint8)\n",
    "\n",
    "fig, axs = plt.subplots(ncols = 2)\n",
    "\n",
    "axs[0].imshow(grad.T, cmap = 'gray')\n",
    "axs[1].imshow(render.T, cmap = 'gray')\n",
    "\n",
    "[a.invert_yaxis() for a in axs]\n",
    "plt.show()"
   ]
  },
  {
   "cell_type": "code",
   "execution_count": null,
   "id": "3d872a65",
   "metadata": {
    "scrolled": false
   },
   "outputs": [],
   "source": [
    "# Locate the face in the image, and create a blurred (2d) replacement\n",
    "# Note that this is somewhat different from what's actually performed\n",
    "# for the 3d data.\n",
    "\n",
    "l,b,w,h = face.find_face(render.T, pixdim, False)\n",
    "pix = 8\n",
    "w, h = w - w%pix, h - h%pix\n",
    "r, t = l + w, b + h\n",
    "rendert = render.T.copy()\n",
    "rdr = rendert[b:t,l:r]\n",
    "rdr_pix = ndimage.zoom(rdr, 1/pix)\n",
    "rdr_pix = ndimage.zoom(rdr_pix, pix, order = 1)\n",
    "\n",
    "fig, axs = plt.subplots(ncols = 2)\n",
    "\n",
    "axs[0].imshow(rdr, cmap = 'gray')\n",
    "axs[1].imshow(rdr_pix, cmap = 'gray')\n",
    "\n",
    "[a.invert_yaxis() for a in axs]\n",
    "plt.show()"
   ]
  },
  {
   "cell_type": "code",
   "execution_count": null,
   "id": "6e40a41c",
   "metadata": {
    "scrolled": false
   },
   "outputs": [],
   "source": [
    "# Putting it all together, this runs the complete workflow on the CT image\n",
    "# and shows the final anonymized CT nifti image\n",
    "\n",
    "_ = face.anon_image(ct, plot = True)"
   ]
  }
 ],
 "metadata": {
  "kernelspec": {
   "display_name": "Python 3 (ipykernel)",
   "language": "python",
   "name": "python3"
  },
  "language_info": {
   "codemirror_mode": {
    "name": "ipython",
    "version": 3
   },
   "file_extension": ".py",
   "mimetype": "text/x-python",
   "name": "python",
   "nbconvert_exporter": "python",
   "pygments_lexer": "ipython3",
   "version": "3.10.6"
  }
 },
 "nbformat": 4,
 "nbformat_minor": 5
}
